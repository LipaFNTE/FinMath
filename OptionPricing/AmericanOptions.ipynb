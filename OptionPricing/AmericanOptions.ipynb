{
 "cells": [
  {
   "cell_type": "code",
   "execution_count": 2,
   "metadata": {},
   "outputs": [],
   "source": [
    "import os, sys,  warnings\n",
    "\n",
    "current_path = os.path.abspath('.')\n",
    "parent_path = os.path.dirname(current_path)\n",
    "\n",
    "sys.path.append(parent_path)\n",
    "os.environ.setdefault('DJANGO_SETTINGS_MODULE', 'child.settings')\n",
    "\n",
    "from pandas.core.common import SettingWithCopyWarning\n",
    "warnings.filterwarnings(\"ignore\", category=FutureWarning)\n",
    "warnings.filterwarnings(\"ignore\", category=SettingWithCopyWarning)"
   ]
  },
  {
   "cell_type": "code",
   "execution_count": 3,
   "metadata": {},
   "outputs": [],
   "source": [
    "import numpy as np\n",
    "import pandas as pd\n",
    "import statsmodels.api as sm\n",
    "from OptionPricing import Payoff\n",
    "import AmericanOptions as AO"
   ]
  },
  {
   "cell_type": "markdown",
   "metadata": {},
   "source": [
    "Na początek zdefiniujmy parametry dla przykładowej opcji call z metodą biorącą pod uwagę tylko trajektorie \"in the money\""
   ]
  },
  {
   "cell_type": "code",
   "execution_count": 4,
   "metadata": {},
   "outputs": [],
   "source": [
    "r = 0.05\n",
    "K = 100\n",
    "s0 = 98\n",
    "sigma = 0.2\n",
    "T = 1\n",
    "N = 10000\n",
    "M = 100\n",
    "d = 3\n",
    "call = True\n",
    "itm = True"
   ]
  },
  {
   "cell_type": "code",
   "execution_count": 6,
   "metadata": {},
   "outputs": [],
   "source": [
    "ao = AO.AmericanOptions(T, N, M, d, call)"
   ]
  },
  {
   "cell_type": "code",
   "execution_count": 7,
   "metadata": {},
   "outputs": [],
   "source": [
    "example = ao.pricingOption(r, K, s0, sigma, T, N, M, d, call, itm)"
   ]
  },
  {
   "cell_type": "code",
   "execution_count": 8,
   "metadata": {},
   "outputs": [
    {
     "data": {
      "text/plain": [
       "2.1031841554251733"
      ]
     },
     "execution_count": 8,
     "metadata": {},
     "output_type": "execute_result"
    }
   ],
   "source": [
    "example"
   ]
  },
  {
   "cell_type": "code",
   "execution_count": null,
   "metadata": {},
   "outputs": [],
   "source": []
  }
 ],
 "metadata": {
  "kernelspec": {
   "display_name": "Python 3",
   "language": "python",
   "name": "python3"
  },
  "language_info": {
   "codemirror_mode": {
    "name": "ipython",
    "version": 3
   },
   "file_extension": ".py",
   "mimetype": "text/x-python",
   "name": "python",
   "nbconvert_exporter": "python",
   "pygments_lexer": "ipython3",
   "version": "3.7.3"
  }
 },
 "nbformat": 4,
 "nbformat_minor": 4
}
